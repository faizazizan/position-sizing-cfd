{
 "cells": [
  {
   "cell_type": "code",
   "execution_count": 25,
   "id": "fb678a65",
   "metadata": {},
   "outputs": [
    {
     "name": "stdout",
     "output_type": "stream",
     "text": [
      "Enter Your Capital:100000\n",
      "Enter Your SL in Pips:5000\n",
      "1.0\n"
     ]
    }
   ],
   "source": [
    "## Calculate Lot Size Using Good Measurement for Money Management\n",
    "\n",
    "Capital = input(\"Enter Your Capital:\")\n",
    "\n",
    "Risk_PerTrade = 0.05 * float(Capital)\n",
    "\n",
    "Stoploss = input(\"Enter Your SL in Pips:\")\n",
    "\n",
    "Lot_Size = float(Risk_PerTrade)/float(Stoploss)\n",
    "\n",
    "print (Lot_Size)\n"
   ]
  },
  {
   "cell_type": "code",
   "execution_count": null,
   "id": "62d3bc72",
   "metadata": {},
   "outputs": [],
   "source": []
  }
 ],
 "metadata": {
  "kernelspec": {
   "display_name": "Python 3 (ipykernel)",
   "language": "python",
   "name": "python3"
  },
  "language_info": {
   "codemirror_mode": {
    "name": "ipython",
    "version": 3
   },
   "file_extension": ".py",
   "mimetype": "text/x-python",
   "name": "python",
   "nbconvert_exporter": "python",
   "pygments_lexer": "ipython3",
   "version": "3.9.12"
  }
 },
 "nbformat": 4,
 "nbformat_minor": 5
}
